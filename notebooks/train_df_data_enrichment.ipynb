{
  "nbformat": 4,
  "nbformat_minor": 0,
  "metadata": {
    "colab": {
      "provenance": []
    },
    "kernelspec": {
      "name": "python3",
      "display_name": "Python 3"
    },
    "language_info": {
      "name": "python"
    }
  },
  "cells": [
    {
      "cell_type": "code",
      "execution_count": 1,
      "metadata": {
        "id": "W3Ve7pBTVC9P"
      },
      "outputs": [],
      "source": [
        "!pip install pyspark -q\n",
        "!pip install findspark -q"
      ]
    },
    {
      "cell_type": "code",
      "source": [
        "# Import the cleaned dataset (gold layer)\n",
        "from google.colab import drive\n",
        "drive.mount('/content/drive')\n",
        "\n",
        "from pyspark.sql import SparkSession\n",
        "spark = SparkSession.builder.appName(\"LoadGold\").getOrCreate()\n",
        "\n",
        "df = (spark.read\n",
        "          .option(\"header\", True)\n",
        "          .option(\"inferSchema\", True)\n",
        "          .option(\"sep\", \";\")\n",
        "          .csv('/content/drive/MyDrive/datasets/gold_fact_events.csv')\n",
        ")"
      ],
      "metadata": {
        "colab": {
          "base_uri": "https://localhost:8080/"
        },
        "id": "WynwSuIcXNHy",
        "outputId": "1d8d4b31-5ce9-49f9-dcb7-52e23bd0d963"
      },
      "execution_count": 2,
      "outputs": [
        {
          "output_type": "stream",
          "name": "stdout",
          "text": [
            "Mounted at /content/drive\n"
          ]
        }
      ]
    },
    {
      "cell_type": "code",
      "source": [
        "from pyspark.sql import functions as F\n",
        "\n",
        "feats = df \\\n",
        "  .withColumn(\"hour\",   F.hour(\"event_ts\")) \\\n",
        "  .withColumn(\"day\",    F.dayofmonth(\"event_ts\")) \\\n",
        "  .withColumn(\"month\",  F.month(\"event_ts\")) \\\n",
        "  .withColumn(\"year\",   F.year(\"event_ts\")) \\\n",
        "  .withColumn(\"weekday\",F.date_format(\"event_ts\",\"E\"))\n",
        "\n",
        "feats.select(\"event_ts\",\"hour\",\"weekday\").show(5, False)\n"
      ],
      "metadata": {
        "colab": {
          "base_uri": "https://localhost:8080/"
        },
        "id": "ZmK1TRoXXSs0",
        "outputId": "24d58b21-f43d-4ba2-f027-00b9461fd7d8"
      },
      "execution_count": 3,
      "outputs": [
        {
          "output_type": "stream",
          "name": "stdout",
          "text": [
            "+-------------------+----+-------+\n",
            "|event_ts           |hour|weekday|\n",
            "+-------------------+----+-------+\n",
            "|2015-05-03 03:00:04|3   |Sun    |\n",
            "|2015-05-03 03:00:11|3   |Sun    |\n",
            "|2015-05-03 03:00:13|3   |Sun    |\n",
            "|2015-05-03 03:00:24|3   |Sun    |\n",
            "|2015-05-03 03:00:26|3   |Sun    |\n",
            "+-------------------+----+-------+\n",
            "only showing top 5 rows\n",
            "\n"
          ]
        }
      ]
    },
    {
      "cell_type": "code",
      "source": [
        "# Feature by items\n",
        "item_features = (\n",
        "    df\n",
        "    .groupBy(\"Item_id\")\n",
        "    .pivot(\"event_type\",[\"view\", \"addtocart\", \"transaction\"])\n",
        "    .count()\n",
        "    .na.fill(0)\n",
        "    .withColumn(\"ctr\", F.when(F.col(\"view\")>0, F.col(\"transaction\")/F.col(\"view\")).otherwise(0))\n",
        ")\n",
        "item_features.show(10)\n",
        "item_features.printSchema()"
      ],
      "metadata": {
        "colab": {
          "base_uri": "https://localhost:8080/"
        },
        "id": "fcZyaqMaYZN8",
        "outputId": "d27544fa-e473-4e70-c31d-7af60b69ef87"
      },
      "execution_count": 4,
      "outputs": [
        {
          "output_type": "stream",
          "name": "stdout",
          "text": [
            "+-------+----+---------+-----------+-------------------+\n",
            "|Item_id|view|addtocart|transaction|                ctr|\n",
            "+-------+----+---------+-----------+-------------------+\n",
            "| 128367|  35|        0|          0|                0.0|\n",
            "| 212010|   4|        0|          0|                0.0|\n",
            "| 195577|   3|        0|          0|                0.0|\n",
            "|  38311|  44|        1|          0|                0.0|\n",
            "| 287536|  27|        6|          2|0.07407407407407407|\n",
            "| 230443|   3|        0|          0|                0.0|\n",
            "| 237019| 108|        7|          6|0.05555555555555555|\n",
            "| 322355|  61|        7|          0|                0.0|\n",
            "| 441201|   2|        0|          0|                0.0|\n",
            "| 264914|   2|        0|          0|                0.0|\n",
            "+-------+----+---------+-----------+-------------------+\n",
            "only showing top 10 rows\n",
            "\n",
            "root\n",
            " |-- Item_id: integer (nullable = true)\n",
            " |-- view: long (nullable = true)\n",
            " |-- addtocart: long (nullable = true)\n",
            " |-- transaction: long (nullable = true)\n",
            " |-- ctr: double (nullable = true)\n",
            "\n"
          ]
        }
      ]
    },
    {
      "cell_type": "code",
      "source": [
        "# Features by visitor\n",
        "user_features = (\n",
        "   df\n",
        "    .groupBy(\"visitor_id\")\n",
        "    .pivot(\"event_type\", [\"view\",\"addtocart\",\"transaction\"])\n",
        "    .count()\n",
        "    .na.fill(0)\n",
        "    .withColumn(\"conv_rate\", F.when(F.col(\"view\")>0, F.col(\"transaction\")/F.col(\"view\")).otherwise(0))\n",
        ")\n",
        "\n",
        "user_features.show(10)\n"
      ],
      "metadata": {
        "colab": {
          "base_uri": "https://localhost:8080/"
        },
        "id": "ljvuWy0Sw64N",
        "outputId": "c406d635-228d-4080-abff-7cf93782b806"
      },
      "execution_count": 5,
      "outputs": [
        {
          "output_type": "stream",
          "name": "stdout",
          "text": [
            "+----------+----+---------+-----------+---------+\n",
            "|visitor_id|view|addtocart|transaction|conv_rate|\n",
            "+----------+----+---------+-----------+---------+\n",
            "|   1191565|   1|        0|          0|      0.0|\n",
            "|   1288720|   1|        0|          0|      0.0|\n",
            "|    167316|   1|        0|          0|      0.0|\n",
            "|   1308839|   1|        0|          0|      0.0|\n",
            "|    195577|   1|        0|          0|      0.0|\n",
            "|    150051|  27|        7|          0|      0.0|\n",
            "|    807527|   5|        0|          0|      0.0|\n",
            "|   1098309|   1|        0|          0|      0.0|\n",
            "|    837609|   1|        0|          0|      0.0|\n",
            "|    620588|   1|        0|          0|      0.0|\n",
            "+----------+----+---------+-----------+---------+\n",
            "only showing top 10 rows\n",
            "\n"
          ]
        }
      ]
    },
    {
      "cell_type": "code",
      "source": [
        "from pyspark.sql.window import Window\n",
        "from pyspark.sql.functions import lag, unix_timestamp, sum, when\n",
        "\n",
        "w = Window.partitionBy(\"visitor_id\").orderBy(\"event_ts\")\n",
        "\n",
        "session_df = (\n",
        "  df\n",
        "    .withColumn(\"prev_ts\", lag(\"event_ts\").over(w))\n",
        "    .withColumn(\n",
        "      \"gap_min\",\n",
        "      (unix_timestamp(\"event_ts\") - unix_timestamp(\"prev_ts\"))/60\n",
        "    )\n",
        "    .withColumn(\n",
        "      \"new_session\",\n",
        "      when(F.col(\"gap_min\").isNull() | (F.col(\"gap_min\")>30), 1).otherwise(0)\n",
        "    )\n",
        "    .withColumn(\n",
        "      \"session_id\",\n",
        "      sum(\"new_session\").over(w)\n",
        "    )\n",
        ")\n",
        "\n",
        "# Calcule quelques métriques par session\n",
        "session_feats = (\n",
        "  session_df\n",
        "    .groupBy(\"visitor_id\",\"session_id\")\n",
        "    .agg(\n",
        "      F.count(\"*\").alias(\"session_events\"),\n",
        "      F.min(\"event_ts\").alias(\"session_start\"),\n",
        "      F.max(\"event_ts\").alias(\"session_end\"),\n",
        "      (unix_timestamp(F.max(\"event_ts\")) - unix_timestamp(F.min(\"event_ts\"))).alias(\"session_duration_s\")\n",
        "    )\n",
        ")\n",
        "\n",
        "session_feats.show(5, False)\n"
      ],
      "metadata": {
        "colab": {
          "base_uri": "https://localhost:8080/"
        },
        "id": "HvU_JNXc4gf1",
        "outputId": "adfc0b7b-0d62-4ad7-ace6-fbdef154ad0e"
      },
      "execution_count": 6,
      "outputs": [
        {
          "output_type": "stream",
          "name": "stdout",
          "text": [
            "+----------+----------+--------------+-------------------+-------------------+------------------+\n",
            "|visitor_id|session_id|session_events|session_start      |session_end        |session_duration_s|\n",
            "+----------+----------+--------------+-------------------+-------------------+------------------+\n",
            "|1         |1         |1             |2015-08-13 17:46:06|2015-08-13 17:46:06|0                 |\n",
            "|3         |1         |1             |2015-08-01 07:10:35|2015-08-01 07:10:35|0                 |\n",
            "|5         |1         |1             |2015-07-17 01:45:56|2015-07-17 01:45:56|0                 |\n",
            "|6         |1         |1             |2015-08-30 06:03:48|2015-08-30 06:03:48|0                 |\n",
            "|6         |2         |4             |2015-08-30 06:39:38|2015-08-30 06:56:33|1015              |\n",
            "+----------+----------+--------------+-------------------+-------------------+------------------+\n",
            "only showing top 5 rows\n",
            "\n"
          ]
        }
      ]
    },
    {
      "cell_type": "code",
      "source": [
        "from pyspark.sql import functions as F\n",
        "\n",
        
        "events = df \\\n",
        "    .dropDuplicates([\"event_ts\",\"visitor_id\",\"item_id\"]) \\\n",
        "    .withColumn(\"hour\",    F.hour(\"event_ts\")) \\\n",
        "    .withColumn(\"weekday\", F.date_format(\"event_ts\",\"E\"))\n",
        "\n",
        
        "it = (\n",
        "    item_features\n",
        "      .withColumnRenamed(\"view\",        \"item_view\")\n",
        "      .withColumnRenamed(\"addtocart\",   \"item_addtocart\")\n",
        "      .withColumnRenamed(\"transaction\", \"item_transaction\")\n",
        "      .withColumnRenamed(\"ctr\",         \"item_ctr\")\n",
        ")\n",
        "\n",
        
        "us = (\n",
        "    user_features\n",
        "      .withColumnRenamed(\"view\",         \"user_view\")\n",
        "      .withColumnRenamed(\"addtocart\",    \"user_addtocart\")\n",
        "      .withColumnRenamed(\"transaction\",  \"user_transaction\")\n",
        "      .withColumnRenamed(\"conv_rate\",    \"user_conv_rate\")\n",
        ")\n",
        "\n",
        
        "train_df = (\n",
        "    events.alias(\"e\")\n",
        "      .join(it.alias(\"it\"), [\"item_id\"],    \"left\")\n",
        "      .join(us.alias(\"us\"), [\"visitor_id\"], \"left\")\n",
        ")\n",
        "\n",
        "# 5. Aperçu\n",
        "train_df.select(\n",
        "    \"event_ts\",\"hour\",\"weekday\",\n",
        "    \"visitor_id\",\"user_view\",\"user_conv_rate\",\n",
        "    \"item_id\",\"item_view\",\"item_ctr\"\n",
        ").show(5, truncate=False)\n"
      ],
      "metadata": {
        "colab": {
          "base_uri": "https://localhost:8080/"
        },
        "id": "p48QLoo441Jd",
        "outputId": "585a3314-fe4c-4596-c3fa-3ce281b2c196"
      },
      "execution_count": 7,
      "outputs": [
        {
          "output_type": "stream",
          "name": "stdout",
          "text": [
            "+-------------------+----+-------+----------+---------+--------------+-------+---------+-------------------+\n",
            "|event_ts           |hour|weekday|visitor_id|user_view|user_conv_rate|item_id|item_view|item_ctr           |\n",
            "+-------------------+----+-------+----------+---------+--------------+-------+---------+-------------------+\n",
            "|2015-05-03 03:41:35|3   |Sun    |411745    |47       |0.0           |408080 |6        |0.0                |\n",
            "|2015-05-03 03:17:08|3   |Sun    |726427    |5        |0.0           |30155  |53       |0.05660377358490566|\n",
            "|2015-05-03 03:00:27|3   |Sun    |1149227   |1        |0.0           |29757  |222      |0.04054054054054054|\n",
            "|2015-05-03 03:52:59|3   |Sun    |1339015   |1        |0.0           |262521 |200      |0.01               |\n",
            "|2015-05-03 03:04:28|3   |Sun    |1361384   |1        |0.0           |228525 |88       |0.0                |\n",
            "+-------------------+----+-------+----------+---------+--------------+-------+---------+-------------------+\n",
            "only showing top 5 rows\n",
            "\n"
          ]
        }
      ]
    }
  ]
}
