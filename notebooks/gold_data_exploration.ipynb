{
  "nbformat": 4,
  "nbformat_minor": 0,
  "metadata": {
    "colab": {
      "provenance": [],
      "gpuType": "T4"
    },
    "kernelspec": {
      "name": "python3",
      "display_name": "Python 3"
    },
    "language_info": {
      "name": "python"
    }
  },
  "cells": [
    {
      "cell_type": "code",
      "execution_count": 3,
      "metadata": {
        "id": "LTSt8SxVZqyl"
      },
      "outputs": [],
      "source": [
        "!pip install pyspark -q\n",
        "!pip install findspark -q"
      ]
    },
    {
      "cell_type": "code",
      "source": [
        "# Import the cleaned dataset (gold layer)\n",
        "from google.colab import drive\n",
        "drive.mount('/content/drive')\n",
        "\n",
        "from pyspark.sql import SparkSession\n",
        "spark = SparkSession.builder.appName(\"LoadGold\").getOrCreate()\n",
        "\n",
        "df = (spark.read\n",
        "          .option(\"header\", True)\n",
        "          .option(\"inferSchema\", True)\n",
        "          .option(\"sep\", \";\")\n",
        "          .csv('/content/drive/MyDrive/datasets/gold_fact_events.csv')\n",
        ")\n",
        "df.printSchema()\n",
        "df.show(5, truncate=False)"
      ],
      "metadata": {
        "colab": {
          "base_uri": "https://localhost:8080/"
        },
        "id": "Z4Y-6_AimkAG",
        "outputId": "09347bdc-2821-4756-9ddd-e75b4f03c46e"
      },
      "execution_count": 4,
      "outputs": [
        {
          "output_type": "stream",
          "name": "stdout",
          "text": [
            "Drive already mounted at /content/drive; to attempt to forcibly remount, call drive.mount(\"/content/drive\", force_remount=True).\n",
            "root\n",
            " |-- event_ts: timestamp (nullable = true)\n",
            " |-- visitor_id: integer (nullable = true)\n",
            " |-- item_id: integer (nullable = true)\n",
            " |-- category_id: integer (nullable = true)\n",
            " |-- is_available: integer (nullable = true)\n",
            " |-- event_type: string (nullable = true)\n",
            "\n",
            "+-------------------+----------+-------+-----------+------------+----------+\n",
            "|event_ts           |visitor_id|item_id|category_id|is_available|event_type|\n",
            "+-------------------+----------+-------+-----------+------------+----------+\n",
            "|2015-05-03 03:00:04|693516    |297662 |-1         |0           |addtocart |\n",
            "|2015-05-03 03:00:11|829044    |60987  |-1         |0           |view      |\n",
            "|2015-05-03 03:00:13|652699    |252860 |-1         |0           |view      |\n",
            "|2015-05-03 03:00:24|1125936   |33661  |-1         |0           |view      |\n",
            "|2015-05-03 03:00:26|693516    |297662 |-1         |0           |view      |\n",
            "+-------------------+----------+-------+-----------+------------+----------+\n",
            "only showing top 5 rows\n",
            "\n"
          ]
        }
      ]
    },
    {
      "cell_type": "code",
      "source": [
        "# Df exploration\n",
        "\n",
        "df.printSchema()\n",
        "\n",
        "total = df.count()\n",
        "print(f\"Number of events : {total}\")"
      ],
      "metadata": {
        "colab": {
          "base_uri": "https://localhost:8080/"
        },
        "id": "avA1ctttUJae",
        "outputId": "0d6de9ea-5852-4634-d744-45084a41a011"
      },
      "execution_count": 6,
      "outputs": [
        {
          "output_type": "stream",
          "name": "stdout",
          "text": [
            "root\n",
            " |-- event_ts: timestamp (nullable = true)\n",
            " |-- visitor_id: integer (nullable = true)\n",
            " |-- item_id: integer (nullable = true)\n",
            " |-- category_id: integer (nullable = true)\n",
            " |-- is_available: integer (nullable = true)\n",
            " |-- event_type: string (nullable = true)\n",
            "\n",
            "Nombre total d'événements : 2751205\n"
          ]
        }
      ]
    },
    {
      "cell_type": "code",
      "source": [
        "# Mean, min, max, standard deviation for the num column\n",
        "df.describe(\"item_id\", \"category_id\", \"is_available\").show()\n",
        "\n",
        "# ts min and max\n",
        "from pyspark.sql import functions as F\n",
        "df.select(\n",
        "    F.min(\"event_ts\").alias(\"min_ts\"),\n",
        "    F.max(\"event_ts\").alias(\"max_ts\")\n",
        ").show()"
      ],
      "metadata": {
        "colab": {
          "base_uri": "https://localhost:8080/"
        },
        "id": "K8u1V9zUWtMr",
        "outputId": "0297addd-4ce3-4990-f7d9-933c63e53bbc"
      },
      "execution_count": 11,
      "outputs": [
        {
          "output_type": "stream",
          "name": "stdout",
          "text": [
            "+-------+------------------+-----------------+-------------------+\n",
            "|summary|           item_id|      category_id|       is_available|\n",
            "+-------+------------------+-----------------+-------------------+\n",
            "|  count|           2751205|          2751205|            2751205|\n",
            "|   mean| 234925.8418725613|429.5796194758297| 0.2019471467956768|\n",
            "| stddev|134193.37095484437|549.6133797863472|0.40145305488485816|\n",
            "|    min|                 3|               -1|                  0|\n",
            "|    max|            466867|             1697|                  1|\n",
            "+-------+------------------+-----------------+-------------------+\n",
            "\n",
            "+-------------------+-------------------+\n",
            "|             min_ts|             max_ts|\n",
            "+-------------------+-------------------+\n",
            "|2015-05-03 03:00:04|2015-09-18 02:59:47|\n",
            "+-------------------+-------------------+\n",
            "\n"
          ]
        }
      ]
    },
    {
      "cell_type": "code",
      "source": [
        "# Missing values\n",
        "from pyspark.sql import functions as F\n",
        "\n",
        "missing = df.select([\n",
        "    F.count(F.when(\n",
        "        (F.col(c).isNull()) | (F.trim(F.col(c)) == \"\"),\n",
        "        c\n",
        "    )).alias(c)\n",
        "    for c in df.columns\n",
        "])\n",
        "missing.show()"
      ],
      "metadata": {
        "colab": {
          "base_uri": "https://localhost:8080/"
        },
        "id": "RBe3o_lkX3IG",
        "outputId": "d52ae058-8637-4bb0-dad4-813e4bc3d51d"
      },
      "execution_count": 14,
      "outputs": [
        {
          "output_type": "stream",
          "name": "stdout",
          "text": [
            "+--------+----------+-------+-----------+------------+----------+\n",
            "|event_ts|visitor_id|item_id|category_id|is_available|event_type|\n",
            "+--------+----------+-------+-----------+------------+----------+\n",
            "|       0|         0|      0|          0|           0|         0|\n",
            "+--------+----------+-------+-----------+------------+----------+\n",
            "\n"
          ]
        }
      ]
    },
    {
      "cell_type": "code",
      "source": [
        "# Duplicate values\n",
        "duplicates = (\n",
        "    df\n",
        "      .groupBy(\"event_ts\", \"visitor_id\", \"item_id\")\n",
        "      .count()\n",
        "      .filter(\"count > 1\")\n",
        ")\n",
        "print(\"Number of duplicate values :\", duplicates.count())\n",
        "duplicates.show(5, truncate=False)"
      ],
      "metadata": {
        "colab": {
          "base_uri": "https://localhost:8080/"
        },
        "id": "oKXgsSOvYoN-",
        "outputId": "248e2ba0-fa31-43fa-c140-b16406810e1e"
      },
      "execution_count": 15,
      "outputs": [
        {
          "output_type": "stream",
          "name": "stdout",
          "text": [
            "Number of duplicate values : 0\n",
            "+--------+----------+-------+-----+\n",
            "|event_ts|visitor_id|item_id|count|\n",
            "+--------+----------+-------+-----+\n",
            "+--------+----------+-------+-----+\n",
            "\n"
          ]
        }
      ]
    },
    {
      "cell_type": "code",
      "source": [],
      "metadata": {
        "id": "cjdlCtL1ZnD8"
      },
      "execution_count": null,
      "outputs": []
    }
  ]
}